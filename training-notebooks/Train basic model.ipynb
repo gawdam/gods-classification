{
 "cells": [
  {
   "cell_type": "code",
   "execution_count": 63,
   "id": "d49bc0e8",
   "metadata": {
    "id": "WC8xCQuELWms"
   },
   "outputs": [],
   "source": [
    "import pathlib\n",
    "import tensorflow as tf\n",
    "import matplotlib.pyplot as plt\n",
    "import numpy as np\n",
    "import pandas as pd\n",
    "import os\n",
    "import PIL\n",
    "from tensorflow import keras\n",
    "from tensorflow.keras import layers\n",
    "from tensorflow.keras.models import Sequential"
   ]
  },
  {
   "cell_type": "code",
   "execution_count": 64,
   "id": "f4bd9580",
   "metadata": {
    "id": "D57L-ovIKtI4"
   },
   "outputs": [
    {
     "data": {
      "text/plain": [
       "WindowsPath('G:/Projects/Gods Classification/Model to train/dataset/Train')"
      ]
     },
     "execution_count": 64,
     "metadata": {},
     "output_type": "execute_result"
    }
   ],
   "source": [
    "# Defining the path for train and test images\n",
    "## Todo: Update the paths of the train and test dataset\n",
    "data_dir_train = pathlib.Path(\"G:/Projects/Gods Classification/Model to train/dataset/Train\")\n",
    "data_dir_test = pathlib.Path('G:/Projects/Gods Classification/Model to train/dataset/Test')\n",
    "data_dir_train"
   ]
  },
  {
   "cell_type": "code",
   "execution_count": 65,
   "id": "29df67bc",
   "metadata": {
    "id": "DqksN1w5Fu-N"
   },
   "outputs": [
    {
     "name": "stdout",
     "output_type": "stream",
     "text": [
      "2187\n",
      "250\n"
     ]
    }
   ],
   "source": [
    "image_count_train = len(list(data_dir_train.glob('*/*')))\n",
    "print(image_count_train)\n",
    "image_count_test = len(list(data_dir_test.glob('*/*')))\n",
    "print(image_count_test)"
   ]
  },
  {
   "cell_type": "markdown",
   "id": "e03b5c27",
   "metadata": {
    "id": "O8HkfW3jPJun"
   },
   "source": [
    "### Load using keras.preprocessing\n",
    "\n",
    "Let's load these images off disk using the helpful image_dataset_from_directory utility."
   ]
  },
  {
   "cell_type": "markdown",
   "id": "e2c00b98",
   "metadata": {
    "id": "cDBKZG3jPcMc"
   },
   "source": [
    "### Create a dataset\n",
    "\n",
    "Define some parameters for the loader:"
   ]
  },
  {
   "cell_type": "code",
   "execution_count": 66,
   "id": "0cc419a7",
   "metadata": {
    "id": "VLfcXcZ9LjGv"
   },
   "outputs": [],
   "source": [
    "batch_size = 32\n",
    "img_height = 200\n",
    "img_width = 200"
   ]
  },
  {
   "cell_type": "markdown",
   "id": "b21374ee",
   "metadata": {
    "id": "Y5f5y43GPog1"
   },
   "source": [
    "Use 80% of the images for training, and 20% for validation."
   ]
  },
  {
   "cell_type": "code",
   "execution_count": 67,
   "id": "8454090a",
   "metadata": {},
   "outputs": [],
   "source": [
    "from keras.preprocessing.image import ImageDataGenerator"
   ]
  },
  {
   "cell_type": "code",
   "execution_count": 68,
   "id": "bea15abd",
   "metadata": {},
   "outputs": [],
   "source": [
    "train_gen = ImageDataGenerator(rescale=1./255)"
   ]
  },
  {
   "cell_type": "code",
   "execution_count": 69,
   "id": "3f1b8e61",
   "metadata": {},
   "outputs": [],
   "source": [
    "val_gen = ImageDataGenerator(rescale=1./255)"
   ]
  },
  {
   "cell_type": "code",
   "execution_count": 70,
   "id": "c700fadb",
   "metadata": {
    "id": "G1BWmDzr7w-5"
   },
   "outputs": [
    {
     "name": "stdout",
     "output_type": "stream",
     "text": [
      "Found 2187 images belonging to 5 classes.\n"
     ]
    }
   ],
   "source": [
    "train_ds = train_gen.flow_from_directory(data_dir_train,batch_size=batch_size,target_size=(img_width,img_height),classes=['Hanuman','Ganesha','Shiva','Brahma','Vishnu'],class_mode='categorical',shuffle=True)"
   ]
  },
  {
   "cell_type": "code",
   "execution_count": 71,
   "id": "d8410532",
   "metadata": {},
   "outputs": [
    {
     "name": "stdout",
     "output_type": "stream",
     "text": [
      "Found 246 images belonging to 5 classes.\n"
     ]
    }
   ],
   "source": [
    "val_ds = val_gen.flow_from_directory(data_dir_test,batch_size=batch_size,target_size=(img_width,img_height),classes=['Hanuman','Ganesha','Shiva','Brahma','Vishnu'],class_mode='categorical',shuffle=True)"
   ]
  },
  {
   "cell_type": "code",
   "execution_count": 90,
   "id": "1312881d",
   "metadata": {},
   "outputs": [],
   "source": [
    "model = Sequential([\n",
    "    layers.Conv2D(16, 3, activation='relu',input_shape=(img_height, img_width, 3)),\n",
    "    layers.MaxPooling2D((2,2)),\n",
    "    layers.Conv2D(32, 3, activation='relu'),\n",
    "    layers.MaxPooling2D(),\n",
    "    layers.Dropout(0.2),\n",
    "    layers.Conv2D(64, 3, activation='relu'),\n",
    "    layers.MaxPooling2D(),\n",
    "    layers.Dropout(0.2),\n",
    "    layers.Flatten(),\n",
    "    layers.Dense(128, activation='relu'),\n",
    "    layers.Dense(5,activation='softmax')\n",
    "])"
   ]
  },
  {
   "cell_type": "code",
   "execution_count": 91,
   "id": "97de38ce",
   "metadata": {},
   "outputs": [
    {
     "name": "stdout",
     "output_type": "stream",
     "text": [
      "Model: \"sequential_3\"\n",
      "_________________________________________________________________\n",
      " Layer (type)                Output Shape              Param #   \n",
      "=================================================================\n",
      " conv2d_9 (Conv2D)           (None, 198, 198, 16)      448       \n",
      "                                                                 \n",
      " max_pooling2d_9 (MaxPooling  (None, 99, 99, 16)       0         \n",
      " 2D)                                                             \n",
      "                                                                 \n",
      " conv2d_10 (Conv2D)          (None, 97, 97, 32)        4640      \n",
      "                                                                 \n",
      " max_pooling2d_10 (MaxPoolin  (None, 48, 48, 32)       0         \n",
      " g2D)                                                            \n",
      "                                                                 \n",
      " dropout_6 (Dropout)         (None, 48, 48, 32)        0         \n",
      "                                                                 \n",
      " conv2d_11 (Conv2D)          (None, 46, 46, 64)        18496     \n",
      "                                                                 \n",
      " max_pooling2d_11 (MaxPoolin  (None, 23, 23, 64)       0         \n",
      " g2D)                                                            \n",
      "                                                                 \n",
      " dropout_7 (Dropout)         (None, 23, 23, 64)        0         \n",
      "                                                                 \n",
      " flatten_3 (Flatten)         (None, 33856)             0         \n",
      "                                                                 \n",
      " dense_6 (Dense)             (None, 128)               4333696   \n",
      "                                                                 \n",
      " dense_7 (Dense)             (None, 5)                 645       \n",
      "                                                                 \n",
      "=================================================================\n",
      "Total params: 4,357,925\n",
      "Trainable params: 4,357,925\n",
      "Non-trainable params: 0\n",
      "_________________________________________________________________\n"
     ]
    }
   ],
   "source": [
    "model.summary()"
   ]
  },
  {
   "cell_type": "code",
   "execution_count": 92,
   "id": "cd49a3e7",
   "metadata": {},
   "outputs": [],
   "source": [
    "from keras import optimizers"
   ]
  },
  {
   "cell_type": "code",
   "execution_count": 96,
   "id": "d3f4c953",
   "metadata": {},
   "outputs": [],
   "source": [
    "model.compile(loss=keras.losses.categorical_crossentropy,optimizer = 'adam',metrics = ['accuracy'])"
   ]
  },
  {
   "cell_type": "code",
   "execution_count": 97,
   "id": "0b343555",
   "metadata": {},
   "outputs": [
    {
     "data": {
      "text/plain": [
       "<module 'keras.optimizer_v2.rmsprop' from 'c:\\\\users\\\\gowdh\\\\appdata\\\\local\\\\programs\\\\python\\\\python38\\\\lib\\\\site-packages\\\\keras\\\\optimizer_v2\\\\rmsprop.py'>"
      ]
     },
     "execution_count": 97,
     "metadata": {},
     "output_type": "execute_result"
    }
   ],
   "source": [
    "optimizers.rmsprop_v2"
   ]
  },
  {
   "cell_type": "code",
   "execution_count": 102,
   "id": "94b61dec",
   "metadata": {},
   "outputs": [
    {
     "name": "stdout",
     "output_type": "stream",
     "text": [
      "Epoch 1/20\n",
      "20/20 [==============================] - 14s 686ms/step - loss: 0.2893 - accuracy: 0.8969 - val_loss: 0.9974 - val_accuracy: 0.7563\n",
      "Epoch 2/20\n",
      "20/20 [==============================] - 13s 678ms/step - loss: 0.2721 - accuracy: 0.9062 - val_loss: 1.0518 - val_accuracy: 0.7937\n",
      "Epoch 3/20\n",
      "20/20 [==============================] - 14s 724ms/step - loss: 0.2173 - accuracy: 0.9281 - val_loss: 0.9317 - val_accuracy: 0.7750\n",
      "Epoch 4/20\n",
      "20/20 [==============================] - 14s 691ms/step - loss: 0.1796 - accuracy: 0.9451 - val_loss: 1.0984 - val_accuracy: 0.8000\n",
      "Epoch 5/20\n",
      "20/20 [==============================] - 14s 691ms/step - loss: 0.1665 - accuracy: 0.9531 - val_loss: 0.9315 - val_accuracy: 0.8062\n",
      "Epoch 6/20\n",
      "20/20 [==============================] - 14s 722ms/step - loss: 0.2005 - accuracy: 0.9451 - val_loss: 1.1550 - val_accuracy: 0.7812\n",
      "Epoch 7/20\n",
      "20/20 [==============================] - 14s 703ms/step - loss: 0.1521 - accuracy: 0.9578 - val_loss: 0.8084 - val_accuracy: 0.8438\n",
      "Epoch 8/20\n",
      "20/20 [==============================] - 14s 697ms/step - loss: 0.0968 - accuracy: 0.9688 - val_loss: 1.0569 - val_accuracy: 0.7937\n",
      "Epoch 9/20\n",
      "20/20 [==============================] - 14s 687ms/step - loss: 0.0880 - accuracy: 0.9766 - val_loss: 0.9292 - val_accuracy: 0.8562\n",
      "Epoch 10/20\n",
      "20/20 [==============================] - 14s 686ms/step - loss: 0.1396 - accuracy: 0.9596 - val_loss: 1.5627 - val_accuracy: 0.7312\n",
      "Epoch 11/20\n",
      "20/20 [==============================] - 14s 685ms/step - loss: 0.1917 - accuracy: 0.9375 - val_loss: 0.6962 - val_accuracy: 0.8375\n",
      "Epoch 12/20\n",
      "20/20 [==============================] - 14s 676ms/step - loss: 0.1336 - accuracy: 0.9596 - val_loss: 0.9231 - val_accuracy: 0.8000\n",
      "Epoch 13/20\n",
      "20/20 [==============================] - 13s 656ms/step - loss: 0.1403 - accuracy: 0.9596 - val_loss: 1.0320 - val_accuracy: 0.8125\n",
      "Epoch 14/20\n",
      "20/20 [==============================] - 14s 722ms/step - loss: 0.0898 - accuracy: 0.9734 - val_loss: 1.0532 - val_accuracy: 0.8000\n",
      "Epoch 15/20\n",
      "20/20 [==============================] - 14s 693ms/step - loss: 0.0771 - accuracy: 0.9797 - val_loss: 1.1387 - val_accuracy: 0.8062\n",
      "Epoch 16/20\n",
      "20/20 [==============================] - 14s 693ms/step - loss: 0.1070 - accuracy: 0.9750 - val_loss: 0.9799 - val_accuracy: 0.7937\n",
      "Epoch 17/20\n",
      "20/20 [==============================] - 13s 663ms/step - loss: 0.0620 - accuracy: 0.9806 - val_loss: 1.1943 - val_accuracy: 0.8250\n",
      "Epoch 18/20\n",
      "20/20 [==============================] - 14s 701ms/step - loss: 0.0480 - accuracy: 0.9875 - val_loss: 1.3777 - val_accuracy: 0.8000\n",
      "Epoch 19/20\n",
      "20/20 [==============================] - 14s 686ms/step - loss: 0.0803 - accuracy: 0.9719 - val_loss: 1.3950 - val_accuracy: 0.7937\n",
      "Epoch 20/20\n",
      "20/20 [==============================] - 15s 756ms/step - loss: 0.0466 - accuracy: 0.9937 - val_loss: 1.2335 - val_accuracy: 0.8062\n"
     ]
    }
   ],
   "source": [
    "history = model.fit(\n",
    "    train_ds,\n",
    "    steps_per_epoch=20,\n",
    "    epochs=20,\n",
    "    validation_data=val_ds,\n",
    "    validation_steps=5    \n",
    ")"
   ]
  },
  {
   "cell_type": "code",
   "execution_count": 104,
   "id": "4184eff9",
   "metadata": {},
   "outputs": [
    {
     "data": {
      "image/png": "[encoded data removed]",
      "text/plain": [
       "<Figure size 576x576 with 2 Axes>"
      ]
     },
     "metadata": {
      "needs_background": "light"
     },
     "output_type": "display_data"
    }
   ],
   "source": [
    "acc = history.history['accuracy']\n",
    "val_acc = history.history['val_accuracy']\n",
    "\n",
    "loss = history.history['loss']\n",
    "val_loss = history.history['val_loss']\n",
    "\n",
    "epochs_range = range(20)\n",
    "\n",
    "plt.figure(figsize=(8, 8))\n",
    "plt.subplot(1, 2, 1)\n",
    "plt.plot(epochs_range, acc, label='Training Accuracy')\n",
    "plt.plot(epochs_range, val_acc, label='Validation Accuracy')\n",
    "plt.legend(loc='lower right')\n",
    "plt.title('Training and Validation Accuracy')\n",
    "\n",
    "plt.subplot(1, 2, 2)\n",
    "plt.plot(epochs_range, loss, label='Training Loss')\n",
    "plt.plot(epochs_range, val_loss, label='Validation Loss')\n",
    "plt.legend(loc='upper right')\n",
    "plt.title('Training and Validation Loss')\n",
    "plt.show()"
   ]
  },
  {
   "cell_type": "code",
   "execution_count": null,
   "id": "1c5ee838",
   "metadata": {},
   "outputs": [],
   "source": [
    "a = [1,2,3]"
   ]
  },
  {
   "cell_type": "code",
   "execution_count": null,
   "id": "b298b004",
   "metadata": {},
   "outputs": [],
   "source": [
    "a[0]+=1"
   ]
  },
  {
   "cell_type": "code",
   "execution_count": 18,
   "id": "9cbe4205",
   "metadata": {},
   "outputs": [],
   "source": [
    "confusion_dict = {}\n",
    "for i in range(5):\n",
    "    confusion_dict[i]=[0,0]\n",
    "for run,batch in enumerate(val_ds):\n",
    "    X,y = batch\n",
    "    for i in range(len(X)):\n",
    "        scaled_img = np.expand_dims(X[i],axis=0)\n",
    "        value = np.argmax(y[i])\n",
    "        if np.argmax(model.predict(scaled_img))==value:\n",
    "            confusion_dict[value][0]+=1\n",
    "        else:\n",
    "            confusion_dict[value][1]+=1\n",
    "    if run>4:\n",
    "        break"
   ]
  },
  {
   "cell_type": "code",
   "execution_count": 19,
   "id": "77f13ae5",
   "metadata": {},
   "outputs": [
    {
     "data": {
      "text/plain": [
       "{0: [33, 7], 1: [28, 14], 2: [27, 8], 3: [20, 19], 4: [34, 2]}"
      ]
     },
     "execution_count": 19,
     "metadata": {},
     "output_type": "execute_result"
    }
   ],
   "source": [
    "confusion_dict"
   ]
  },
  {
   "cell_type": "code",
   "execution_count": null,
   "id": "59c41686",
   "metadata": {},
   "outputs": [],
   "source": [
    "(val_ds.cl)"
   ]
  },
  {
   "cell_type": "code",
   "execution_count": 26,
   "id": "de69b4db",
   "metadata": {},
   "outputs": [
    {
     "data": {
      "text/plain": [
       "<function dict.values>"
      ]
     },
     "execution_count": 26,
     "metadata": {},
     "output_type": "execute_result"
    }
   ],
   "source": [
    "confusion_dict.values"
   ]
  },
  {
   "cell_type": "code",
   "execution_count": 27,
   "id": "c5b10cd5",
   "metadata": {},
   "outputs": [],
   "source": [
    "n = 0\n",
    "d = 0\n",
    "for key in confusion_dict:\n",
    "    n += confusion_dict[key][0]\n",
    "    d += confusion_dict[key][0]+confusion_dict[key][1]"
   ]
  },
  {
   "cell_type": "code",
   "execution_count": 28,
   "id": "ebae5ce2",
   "metadata": {},
   "outputs": [
    {
     "data": {
      "text/plain": [
       "0.7395833333333334"
      ]
     },
     "execution_count": 28,
     "metadata": {},
     "output_type": "execute_result"
    }
   ],
   "source": [
    "n/(d)"
   ]
  },
  {
   "cell_type": "code",
   "execution_count": 53,
   "id": "e2cce767",
   "metadata": {},
   "outputs": [],
   "source": [
    "classes = ['Hanuman','Ganesha','Shiva','Brahma','Vishnu']"
   ]
  },
  {
   "cell_type": "code",
   "execution_count": 61,
   "id": "d0844907",
   "metadata": {},
   "outputs": [
    {
     "name": "stdout",
     "output_type": "stream",
     "text": [
      "(32, 200, 200, 3)\n",
      "(200, 200, 3)\n"
     ]
    }
   ],
   "source": [
    "for run,batch in enumerate(val_ds):\n",
    "    X,y = batch\n",
    "    index = np.random.randint(1,31)\n",
    "    print(X.shape)\n",
    "    img = (X[index])\n",
    "    label = np.argmax(y[index])\n",
    "    print(img.shape)\n",
    "    break"
   ]
  },
  {
   "cell_type": "code",
   "execution_count": 62,
   "id": "dc01ddce",
   "metadata": {},
   "outputs": [
    {
     "name": "stdout",
     "output_type": "stream",
     "text": [
      "Actual: Vishnu\n",
      "Predicted: Vishnu\n"
     ]
    },
    {
     "data": {
      "text/plain": [
       "<matplotlib.image.AxesImage at 0x1334d2d2e80>"
      ]
     },
     "execution_count": 62,
     "metadata": {},
     "output_type": "execute_result"
    },
    {
     "data": {
      "image/png": "[encoded data removed]",
      "text/plain": [
       "<Figure size 432x288 with 1 Axes>"
      ]
     },
     "metadata": {
      "needs_background": "light"
     },
     "output_type": "display_data"
    }
   ],
   "source": [
    "print(\"Actual: \"+classes[label])\n",
    "print(\"Predicted: \"+classes[np.argmax(model.predict(np.expand_dims(img,axis=0)))])\n",
    "plt.imshow(img)"
   ]
  },
  {
   "cell_type": "code",
   "execution_count": null,
   "id": "b8eefa57",
   "metadata": {},
   "outputs": [],
   "source": []
  },
  {
   "cell_type": "code",
   "execution_count": null,
   "id": "8ab3c25b",
   "metadata": {},
   "outputs": [],
   "source": []
  },
  {
   "cell_type": "code",
   "execution_count": null,
   "id": "f81170f7",
   "metadata": {},
   "outputs": [],
   "source": []
  },
  {
   "cell_type": "code",
   "execution_count": null,
   "id": "00bfe358",
   "metadata": {},
   "outputs": [],
   "source": []
  },
  {
   "cell_type": "code",
   "execution_count": null,
   "id": "7a0b08ad",
   "metadata": {},
   "outputs": [],
   "source": []
  },
  {
   "cell_type": "code",
   "execution_count": null,
   "id": "19737a00",
   "metadata": {},
   "outputs": [],
   "source": []
  },
  {
   "cell_type": "code",
   "execution_count": null,
   "id": "cbd1cf6d",
   "metadata": {},
   "outputs": [],
   "source": []
  },
  {
   "cell_type": "code",
   "execution_count": null,
   "id": "8b88a9db",
   "metadata": {},
   "outputs": [],
   "source": []
  },
  {
   "cell_type": "code",
   "execution_count": null,
   "id": "32caeddb",
   "metadata": {},
   "outputs": [],
   "source": []
  },
  {
   "cell_type": "code",
   "execution_count": null,
   "id": "d4699adf",
   "metadata": {},
   "outputs": [],
   "source": []
  },
  {
   "cell_type": "code",
   "execution_count": null,
   "id": "27fa4671",
   "metadata": {},
   "outputs": [],
   "source": []
  },
  {
   "cell_type": "code",
   "execution_count": null,
   "id": "59ca6970",
   "metadata": {},
   "outputs": [],
   "source": []
  },
  {
   "cell_type": "code",
   "execution_count": null,
   "id": "cf2c1d50",
   "metadata": {
    "id": "LYch6-SR-i2g"
   },
   "outputs": [],
   "source": [
    "## Write your validation dataset here\n",
    "## Note use seed=123 while creating your dataset using tf.keras.preprocessing.image_dataset_from_directory\n",
    "## Note, make sure your resize your images to the size img_height*img_width, while writting the dataset\n",
    "val_ds = tf.keras.preprocessing.image_dataset_from_directory(data_dir_train,validation_split=0.2,subset='validation',color_mode = 'rgb',batch_size=batch_size,image_size=(img_width,img_height),seed=123)"
   ]
  },
  {
   "cell_type": "code",
   "execution_count": null,
   "id": "625a6630",
   "metadata": {},
   "outputs": [],
   "source": [
    "train_ds = tf.keras.preprocessing.image_dataset_from_directory(data_dir_train,validation_split=0.2,subset='training', color_mode = 'rgb',batch_size=batch_size,image_size=(img_width,img_height),seed=123)"
   ]
  },
  {
   "cell_type": "code",
   "execution_count": null,
   "id": "474847e9",
   "metadata": {},
   "outputs": [],
   "source": [
    "for image_batch, labels_batch in train_ds:\n",
    "    print(image_batch)\n",
    "    print(labels_batch)    "
   ]
  },
  {
   "cell_type": "code",
   "execution_count": null,
   "id": "22a52375",
   "metadata": {},
   "outputs": [],
   "source": [
    "AUTOTUNE = tf.data.AUTOTUNE\n",
    "\n",
    "train_ds = train_ds.cache().shuffle(1000).prefetch(buffer_size=AUTOTUNE)\n",
    "val_ds = val_ds.cache().prefetch(buffer_size=AUTOTUNE)"
   ]
  },
  {
   "cell_type": "code",
   "execution_count": null,
   "id": "dfedfb49",
   "metadata": {},
   "outputs": [],
   "source": [
    "class_names = training.class_names\n",
    "print(class_names)"
   ]
  },
  {
   "cell_type": "code",
   "execution_count": null,
   "id": "b462e691",
   "metadata": {},
   "outputs": [],
   "source": [
    "num_classes = len(class_names)\n",
    "\n",
    "model = Sequential([\n",
    "  layers.Rescaling(1./255, input_shape=(img_height, img_width, 3)),\n",
    "  layers.Conv2D(16, 3, padding='same', activation='relu'),\n",
    "  layers.MaxPooling2D(),\n",
    "  layers.Conv2D(32, 3, padding='same', activation='relu'),\n",
    "  layers.MaxPooling2D(),\n",
    "  layers.Conv2D(64, 3, padding='same', activation='relu'),\n",
    "  layers.MaxPooling2D(),\n",
    "  layers.Flatten(),\n",
    "  layers.Dense(128, activation='relu'),\n",
    "  layers.Dense(num_classes)\n",
    "])"
   ]
  },
  {
   "cell_type": "code",
   "execution_count": null,
   "id": "03c33df3",
   "metadata": {},
   "outputs": [],
   "source": [
    "model.compile(optimizer='adam',\n",
    "              loss=tf.keras.losses.SparseCategoricalCrossentropy(from_logits=True),\n",
    "              metrics=['accuracy'])"
   ]
  },
  {
   "cell_type": "code",
   "execution_count": null,
   "id": "0740ef6a",
   "metadata": {},
   "outputs": [],
   "source": [
    "model.summary()"
   ]
  },
  {
   "cell_type": "code",
   "execution_count": null,
   "id": "2060b311",
   "metadata": {},
   "outputs": [],
   "source": []
  },
  {
   "cell_type": "code",
   "execution_count": null,
   "id": "6050f090",
   "metadata": {},
   "outputs": [],
   "source": [
    "## Your code goes here, note: train your model for 20 epochs\n",
    "epochs = 20\n",
    "history = model.fit(\n",
    "  train_ds,\n",
    "  validation_data=val_ds,\n",
    "  epochs=epochs\n",
    ")"
   ]
  },
  {
   "cell_type": "code",
   "execution_count": 2,
   "id": "d2f480bd",
   "metadata": {},
   "outputs": [],
   "source": [
    "import numpy as np"
   ]
  },
  {
   "cell_type": "code",
   "execution_count": 7,
   "id": "813df1b3",
   "metadata": {},
   "outputs": [],
   "source": [
    "bin_weights = np.ones((5,5))\n",
    "bin_weights[0, 1:5] = 2\n",
    "bin_weights[1, 0] = 5"
   ]
  },
  {
   "cell_type": "code",
   "execution_count": 10,
   "id": "07d705ba",
   "metadata": {},
   "outputs": [
    {
     "data": {
      "text/plain": [
       "array([[1., 2., 2., 2., 2.],\n",
       "       [5., 1., 1., 1., 1.],\n",
       "       [1., 1., 1., 1., 1.],\n",
       "       [1., 1., 1., 1., 1.],\n",
       "       [1., 1., 1., 1., 1.]])"
      ]
     },
     "execution_count": 10,
     "metadata": {},
     "output_type": "execute_result"
    }
   ],
   "source": [
    "bin_weights"
   ]
  },
  {
   "cell_type": "code",
   "execution_count": 11,
   "id": "1e346bcd",
   "metadata": {},
   "outputs": [],
   "source": [
    "np.fill_diagonal(bin_weights,0)"
   ]
  },
  {
   "cell_type": "code",
   "execution_count": 12,
   "id": "25da3324",
   "metadata": {},
   "outputs": [
    {
     "data": {
      "text/plain": [
       "array([[0., 2., 2., 2., 2.],\n",
       "       [5., 0., 1., 1., 1.],\n",
       "       [1., 1., 0., 1., 1.],\n",
       "       [1., 1., 1., 0., 1.],\n",
       "       [1., 1., 1., 1., 0.]])"
      ]
     },
     "execution_count": 12,
     "metadata": {},
     "output_type": "execute_result"
    }
   ],
   "source": [
    "bin_weights"
   ]
  },
  {
   "cell_type": "code",
   "execution_count": 74,
   "id": "9c7bc1fb",
   "metadata": {},
   "outputs": [],
   "source": [
    "values = np.array([0.0,0.0,0.2,0.0,0.8])"
   ]
  },
  {
   "cell_type": "code",
   "execution_count": 75,
   "id": "e4f84c2f",
   "metadata": {},
   "outputs": [],
   "source": [
    "best_thresh = [0.1,0.2,0.7,0.3,0.9]"
   ]
  },
  {
   "cell_type": "code",
   "execution_count": 77,
   "id": "87c1d5f8",
   "metadata": {},
   "outputs": [
    {
     "name": "stdout",
     "output_type": "stream",
     "text": [
      "5\n"
     ]
    }
   ],
   "source": [
    "best_thresh = np.array(best_thresh)\n",
    "preference = np.argsort(best_thresh)[::-1]\n",
    "for value in preference:\n",
    "    flag = 0\n",
    "    if value in np.where(values>best_thresh)[0]:\n",
    "        flag = 1\n",
    "        print(value)\n",
    "        break\n",
    "if flag==0:\n",
    "    print(5)"
   ]
  },
  {
   "cell_type": "code",
   "execution_count": 84,
   "id": "a92e41b8",
   "metadata": {},
   "outputs": [
    {
     "data": {
      "text/plain": [
       "0"
      ]
     },
     "execution_count": 84,
     "metadata": {},
     "output_type": "execute_result"
    }
   ],
   "source": [
    "np.where(values>best_thresh)[0].size\n"
   ]
  },
  {
   "cell_type": "code",
   "execution_count": 89,
   "id": "b4e49026",
   "metadata": {},
   "outputs": [
    {
     "data": {
      "text/plain": [
       "True"
      ]
     },
     "execution_count": 89,
     "metadata": {},
     "output_type": "execute_result"
    }
   ],
   "source": []
  },
  {
   "cell_type": "code",
   "execution_count": null,
   "id": "d4638db7",
   "metadata": {},
   "outputs": [],
   "source": []
  }
 ],
 "metadata": {
  "kernelspec": {
   "display_name": "Python 3 (ipykernel)",
   "language": "python",
   "name": "python3"
  },
  "language_info": {
   "codemirror_mode": {
    "name": "ipython",
    "version": 3
   },
   "file_extension": ".py",
   "mimetype": "text/x-python",
   "name": "python",
   "nbconvert_exporter": "python",
   "pygments_lexer": "ipython3",
   "version": "3.8.7rc1"
  }
 },
 "nbformat": 4,
 "nbformat_minor": 5
}
